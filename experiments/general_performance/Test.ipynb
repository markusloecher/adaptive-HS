{
 "cells": [
  {
   "cell_type": "code",
   "execution_count": 2,
   "metadata": {},
   "outputs": [],
   "source": [
    "#import os\n",
    "from typing import Callable, List, Tuple, Dict\n",
    "\n",
    "from imodels.util.data_util import get_clean_dataset\n",
    "from joblib import Parallel, delayed\n",
    "from tqdm import tqdm\n",
    "\n",
    "import pandas as pd\n",
    "import numpy as np\n",
    "from _util import TreeBasedModel\n",
    "from shap import TreeExplainer\n",
    "from sklearn.metrics import roc_auc_score\n",
    "from sklearn.model_selection import train_test_split\n",
    "from _run_single_replication import run_single_replication, _get_best_lambda\n",
    "from _run_experiment import run_experiment\n",
    "from sklearn.tree import DecisionTreeClassifier\n",
    "\n",
    "from adhs import ShrinkageClassifier\n",
    "import ipdb\n"
   ]
  },
  {
   "cell_type": "code",
   "execution_count": 3,
   "metadata": {},
   "outputs": [
    {
     "name": "stderr",
     "output_type": "stream",
     "text": [
      "  0%|          | 0/8 [00:00<?, ?it/s]"
     ]
    }
   ],
   "source": [
    "CLF_DATASETS = [\n",
    "    (\"heart\", \"heart\", \"imodels\"),\n",
    "    (\"breast-cancer\", \"breast_cancer\", \"imodels\"),\n",
    "    (\"haberman\", \"haberman\", \"imodels\"),\n",
    "    (\"ionosphere\", \"ionosphere\", \"pmlb\"),\n",
    "    (\"diabetes-clf\", \"diabetes\", \"pmlb\"),\n",
    "    (\"german\", \"german\", \"pmlb\"),\n",
    "    (\"juvenile\", \"juvenile_clean\", \"imodels\"),\n",
    "    (\"recidivism\", \"compas_two_year_clean\", \"imodels\"),\n",
    "]\n",
    "prog = tqdm(CLF_DATASETS)"
   ]
  },
  {
   "cell_type": "code",
   "execution_count": 4,
   "metadata": {},
   "outputs": [
    {
     "name": "stderr",
     "output_type": "stream",
     "text": [
      "100%|██████████| 8/8 [00:36<00:00,  4.58s/it, dataset=recidivism]   "
     ]
    },
    {
     "name": "stdout",
     "output_type": "stream",
     "text": [
      "heart imodels\n",
      "breast_cancer imodels\n",
      "haberman imodels\n",
      "ionosphere pmlb\n",
      "diabetes pmlb\n",
      "german pmlb\n",
      "juvenile_clean imodels\n",
      "compas_two_year_clean imodels\n"
     ]
    },
    {
     "name": "stderr",
     "output_type": "stream",
     "text": [
      "\n"
     ]
    }
   ],
   "source": [
    "#just to understand the logic and syntax of the IDs\n",
    "for ds_name, ds_id, ds_source in prog:\n",
    "        prog.set_postfix({\"dataset\": ds_name})\n",
    "        print(ds_id, ds_source)"
   ]
  },
  {
   "cell_type": "markdown",
   "metadata": {},
   "source": [
    "## Find the optimal lambda for the simulated data\n",
    "\n"
   ]
  },
  {
   "cell_type": "code",
   "execution_count": null,
   "metadata": {},
   "outputs": [],
   "source": [
    "X, y, _ = get_clean_dataset(\"heart\", \"imodels\")"
   ]
  },
  {
   "cell_type": "code",
   "execution_count": 9,
   "metadata": {},
   "outputs": [
    {
     "data": {
      "text/plain": [
       "numpy.ndarray"
      ]
     },
     "execution_count": 9,
     "metadata": {},
     "output_type": "execute_result"
    }
   ],
   "source": [
    "type(X)"
   ]
  },
  {
   "cell_type": "code",
   "execution_count": 7,
   "metadata": {},
   "outputs": [
    {
     "data": {
      "text/plain": [
       "[{'shrink_mode': 'hs',\n",
       "  'lambda': 100.0,\n",
       "  'num_trees': 1,\n",
       "  'ROC AUC': 0.8402499999999999},\n",
       " {'shrink_mode': 'hs_entropy',\n",
       "  'lambda': 25.0,\n",
       "  'num_trees': 1,\n",
       "  'ROC AUC': 0.837}]"
      ]
     },
     "execution_count": 7,
     "metadata": {},
     "output_type": "execute_result"
    }
   ],
   "source": [
    "lambdas = [0.0, 0.1, 1.0, 10.0, 25.0, 50.0, 100.0]\n",
    "\n",
    "run_single_replication(\n",
    "    X,\n",
    "    y,\n",
    "    DecisionTreeClassifier() ,#base_estimator: TreeBasedModel,\n",
    "    [\"hs\", \"hs_entropy\"], #shrink_modes: List[str],\n",
    "    lambdas,#lambdas: List[float],\n",
    "    \"classification\",#problem_type: str,\n",
    "    roc_auc_score #score_fn: Callable,\n",
    ")"
   ]
  }
 ],
 "metadata": {
  "kernelspec": {
   "display_name": "venv310",
   "language": "python",
   "name": "python3"
  },
  "language_info": {
   "codemirror_mode": {
    "name": "ipython",
    "version": 3
   },
   "file_extension": ".py",
   "mimetype": "text/x-python",
   "name": "python",
   "nbconvert_exporter": "python",
   "pygments_lexer": "ipython3",
   "version": "3.10.6"
  }
 },
 "nbformat": 4,
 "nbformat_minor": 2
}
