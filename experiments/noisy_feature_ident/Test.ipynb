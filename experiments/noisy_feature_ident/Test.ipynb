{
 "cells": [
  {
   "cell_type": "code",
   "execution_count": 6,
   "metadata": {},
   "outputs": [],
   "source": [
    "#import os\n",
    "from typing import Callable, List, Tuple, Dict\n",
    "\n",
    "from imodels.util.data_util import get_clean_dataset\n",
    "from joblib import Parallel, delayed\n",
    "from tqdm import tqdm\n",
    "\n",
    "import pandas as pd\n",
    "import numpy as np\n",
    "from _simulate_data import simulate_data\n",
    "from _util import TreeBasedModel\n",
    "from shap import TreeExplainer\n",
    "from sklearn.metrics import roc_auc_score\n",
    "from sklearn.model_selection import train_test_split\n",
    "from _run_single_replication import run_single_replication, _get_best_lambda\n",
    "from _run_experiment import run_experiment\n",
    "from sklearn.tree import DecisionTreeClassifier\n",
    "from sklearn.ensemble import RandomForestClassifier\n",
    "\n",
    "from adhs import ShrinkageClassifier\n",
    "import ipdb\n"
   ]
  },
  {
   "cell_type": "markdown",
   "metadata": {},
   "source": [
    "## Find the optimal lambda for the simulated data\n",
    "\n"
   ]
  },
  {
   "cell_type": "code",
   "execution_count": 9,
   "metadata": {},
   "outputs": [],
   "source": [
    "N=100;p=12#for testing !\n",
    "N=1000;p=50\n",
    "X, y, rlvFtrs = simulate_data(N, p)\n",
    "X = X.to_numpy()\n",
    "#X_train, X_test, y_train, y_test = train_test_split(\n",
    "#    X, y, test_size=0.2, stratify=y)"
   ]
  },
  {
   "cell_type": "markdown",
   "metadata": {},
   "source": [
    "### Single Tree"
   ]
  },
  {
   "cell_type": "code",
   "execution_count": 4,
   "metadata": {},
   "outputs": [
    {
     "data": {
      "text/plain": [
       "[{'shrink_mode': 'hs',\n",
       "  'lambda': 100.0,\n",
       "  'num_trees': 1,\n",
       "  'ROC AUC': 0.5450321395775941},\n",
       " {'shrink_mode': 'hs_entropy',\n",
       "  'lambda': 100.0,\n",
       "  'num_trees': 1,\n",
       "  'ROC AUC': 0.5537190082644627},\n",
       " {'shrink_mode': 'hs_permutation',\n",
       "  'lambda': 100.0,\n",
       "  'num_trees': 1,\n",
       "  'ROC AUC': 0.5369880624426078}]"
      ]
     },
     "execution_count": 4,
     "metadata": {},
     "output_type": "execute_result"
    }
   ],
   "source": [
    "lambdas = [0.0, 0.1, 1.0, 10.0, 25.0, 50.0, 100.0]\n",
    "N=1000;p=50\n",
    "X, y, rlvFtrs = simulate_data(N, p)\n",
    "X = X.to_numpy()\n",
    "\n",
    "run_single_replication(\n",
    "    X,\n",
    "    y,\n",
    "    DecisionTreeClassifier() ,#base_estimator: TreeBasedModel,\n",
    "    [\"hs\", \"hs_entropy\", \"hs_permutation\"], #shrink_modes: List[str],\n",
    "    lambdas,#lambdas: List[float],\n",
    "    \"classification\",#problem_type: str,\n",
    "    roc_auc_score, #score_fn: Callable,\n",
    "    individual_trees=True\n",
    ")"
   ]
  },
  {
   "cell_type": "markdown",
   "metadata": {},
   "source": [
    "## Forest"
   ]
  },
  {
   "cell_type": "code",
   "execution_count": 7,
   "metadata": {},
   "outputs": [
    {
     "data": {
      "text/plain": [
       "[{'shrink_mode': 'hs',\n",
       "  'lambda': 0.1,\n",
       "  'num_trees': 1,\n",
       "  'ROC AUC': 0.5493296602387512},\n",
       " {'shrink_mode': 'hs',\n",
       "  'lambda': 0.1,\n",
       "  'num_trees': 2,\n",
       "  'ROC AUC': 0.5488521579430671},\n",
       " {'shrink_mode': 'hs',\n",
       "  'lambda': 0.1,\n",
       "  'num_trees': 3,\n",
       "  'ROC AUC': 0.5178512396694215},\n",
       " {'shrink_mode': 'hs',\n",
       "  'lambda': 0.1,\n",
       "  'num_trees': 4,\n",
       "  'ROC AUC': 0.5130945821854913},\n",
       " {'shrink_mode': 'hs',\n",
       "  'lambda': 0.1,\n",
       "  'num_trees': 5,\n",
       "  'ROC AUC': 0.5178696051423324},\n",
       " {'shrink_mode': 'hs',\n",
       "  'lambda': 0.1,\n",
       "  'num_trees': 6,\n",
       "  'ROC AUC': 0.5276033057851239},\n",
       " {'shrink_mode': 'hs',\n",
       "  'lambda': 0.1,\n",
       "  'num_trees': 7,\n",
       "  'ROC AUC': 0.5124701561065197},\n",
       " {'shrink_mode': 'hs',\n",
       "  'lambda': 0.1,\n",
       "  'num_trees': 8,\n",
       "  'ROC AUC': 0.5031404958677687},\n",
       " {'shrink_mode': 'hs',\n",
       "  'lambda': 0.1,\n",
       "  'num_trees': 9,\n",
       "  'ROC AUC': 0.49818181818181817},\n",
       " {'shrink_mode': 'hs',\n",
       "  'lambda': 0.1,\n",
       "  'num_trees': 10,\n",
       "  'ROC AUC': 0.49146005509641877},\n",
       " {'shrink_mode': 'hs_entropy',\n",
       "  'lambda': 100.0,\n",
       "  'num_trees': 1,\n",
       "  'ROC AUC': 0.4998714416896235},\n",
       " {'shrink_mode': 'hs_entropy',\n",
       "  'lambda': 100.0,\n",
       "  'num_trees': 2,\n",
       "  'ROC AUC': 0.5073645546372818},\n",
       " {'shrink_mode': 'hs_entropy',\n",
       "  'lambda': 100.0,\n",
       "  'num_trees': 3,\n",
       "  'ROC AUC': 0.49083562901744715},\n",
       " {'shrink_mode': 'hs_entropy',\n",
       "  'lambda': 100.0,\n",
       "  'num_trees': 4,\n",
       "  'ROC AUC': 0.4766207529843894},\n",
       " {'shrink_mode': 'hs_entropy',\n",
       "  'lambda': 100.0,\n",
       "  'num_trees': 5,\n",
       "  'ROC AUC': 0.4998347107438017},\n",
       " {'shrink_mode': 'hs_entropy',\n",
       "  'lambda': 100.0,\n",
       "  'num_trees': 6,\n",
       "  'ROC AUC': 0.5230119375573921},\n",
       " {'shrink_mode': 'hs_entropy',\n",
       "  'lambda': 100.0,\n",
       "  'num_trees': 7,\n",
       "  'ROC AUC': 0.49204775022956837},\n",
       " {'shrink_mode': 'hs_entropy',\n",
       "  'lambda': 100.0,\n",
       "  'num_trees': 8,\n",
       "  'ROC AUC': 0.5075482093663912},\n",
       " {'shrink_mode': 'hs_entropy',\n",
       "  'lambda': 100.0,\n",
       "  'num_trees': 9,\n",
       "  'ROC AUC': 0.5100826446280992},\n",
       " {'shrink_mode': 'hs_entropy',\n",
       "  'lambda': 100.0,\n",
       "  'num_trees': 10,\n",
       "  'ROC AUC': 0.5031037649219468},\n",
       " {'shrink_mode': 'hs_permutation',\n",
       "  'lambda': 0.0,\n",
       "  'num_trees': 1,\n",
       "  'ROC AUC': 0.4982001836547291},\n",
       " {'shrink_mode': 'hs_permutation',\n",
       "  'lambda': 0.0,\n",
       "  'num_trees': 2,\n",
       "  'ROC AUC': 0.4971166207529844},\n",
       " {'shrink_mode': 'hs_permutation',\n",
       "  'lambda': 0.0,\n",
       "  'num_trees': 3,\n",
       "  'ROC AUC': 0.47880624426078977},\n",
       " {'shrink_mode': 'hs_permutation',\n",
       "  'lambda': 0.0,\n",
       "  'num_trees': 4,\n",
       "  'ROC AUC': 0.46411386593204773},\n",
       " {'shrink_mode': 'hs_permutation',\n",
       "  'lambda': 0.0,\n",
       "  'num_trees': 5,\n",
       "  'ROC AUC': 0.4764187327823692},\n",
       " {'shrink_mode': 'hs_permutation',\n",
       "  'lambda': 0.0,\n",
       "  'num_trees': 6,\n",
       "  'ROC AUC': 0.49153351698806247},\n",
       " {'shrink_mode': 'hs_permutation',\n",
       "  'lambda': 0.0,\n",
       "  'num_trees': 7,\n",
       "  'ROC AUC': 0.49004591368227735},\n",
       " {'shrink_mode': 'hs_permutation',\n",
       "  'lambda': 0.0,\n",
       "  'num_trees': 8,\n",
       "  'ROC AUC': 0.49619834710743804},\n",
       " {'shrink_mode': 'hs_permutation',\n",
       "  'lambda': 0.0,\n",
       "  'num_trees': 9,\n",
       "  'ROC AUC': 0.49046831955922865},\n",
       " {'shrink_mode': 'hs_permutation',\n",
       "  'lambda': 0.0,\n",
       "  'num_trees': 10,\n",
       "  'ROC AUC': 0.4860973370064279}]"
      ]
     },
     "execution_count": 7,
     "metadata": {},
     "output_type": "execute_result"
    }
   ],
   "source": [
    "lambdas = [0.0, 0.1, 1.0, 10.0, 25.0, 50.0, 100.0]\n",
    "N=1000;p=50\n",
    "X, y, rlvFtrs = simulate_data(N, p)\n",
    "X = X.to_numpy()\n",
    "\n",
    "results = run_single_replication(\n",
    "    X,\n",
    "    y,\n",
    "    RandomForestClassifier(n_estimators=10) ,#base_estimator: TreeBasedModel,\n",
    "    [\"hs\", \"hs_entropy\", \"hs_permutation\"], #shrink_modes: List[str],\n",
    "    lambdas,#lambdas: List[float],\n",
    "    \"classification\",#problem_type: str,\n",
    "    roc_auc_score, #score_fn: Callable,\n",
    "    individual_trees=True\n",
    ")"
   ]
  },
  {
   "cell_type": "code",
   "execution_count": 8,
   "metadata": {},
   "outputs": [
    {
     "ename": "TypeError",
     "evalue": "Singleton array array(0.47595467) cannot be considered a valid collection.",
     "output_type": "error",
     "traceback": [
      "\u001b[0;31m---------------------------------------------------------------------------\u001b[0m",
      "\u001b[0;31mTypeError\u001b[0m                                 Traceback (most recent call last)",
      "\u001b[1;32m/Users/loecherm/Documents/GitHub/adaptive-HS/experiments/noisy_feature_ident/Test.ipynb Cell 8\u001b[0m line \u001b[0;36m6\n\u001b[1;32m      <a href='vscode-notebook-cell:/Users/loecherm/Documents/GitHub/adaptive-HS/experiments/noisy_feature_ident/Test.ipynb#X11sZmlsZQ%3D%3D?line=2'>3</a>\u001b[0m X, y, rlvFtrs \u001b[39m=\u001b[39m simulate_data(N, p)\n\u001b[1;32m      <a href='vscode-notebook-cell:/Users/loecherm/Documents/GitHub/adaptive-HS/experiments/noisy_feature_ident/Test.ipynb#X11sZmlsZQ%3D%3D?line=3'>4</a>\u001b[0m X \u001b[39m=\u001b[39m X\u001b[39m.\u001b[39mto_numpy()\n\u001b[0;32m----> <a href='vscode-notebook-cell:/Users/loecherm/Documents/GitHub/adaptive-HS/experiments/noisy_feature_ident/Test.ipynb#X11sZmlsZQ%3D%3D?line=5'>6</a>\u001b[0m run_single_replication(\n\u001b[1;32m      <a href='vscode-notebook-cell:/Users/loecherm/Documents/GitHub/adaptive-HS/experiments/noisy_feature_ident/Test.ipynb#X11sZmlsZQ%3D%3D?line=6'>7</a>\u001b[0m     X,\n\u001b[1;32m      <a href='vscode-notebook-cell:/Users/loecherm/Documents/GitHub/adaptive-HS/experiments/noisy_feature_ident/Test.ipynb#X11sZmlsZQ%3D%3D?line=7'>8</a>\u001b[0m     y,\n\u001b[1;32m      <a href='vscode-notebook-cell:/Users/loecherm/Documents/GitHub/adaptive-HS/experiments/noisy_feature_ident/Test.ipynb#X11sZmlsZQ%3D%3D?line=8'>9</a>\u001b[0m     RandomForestClassifier(n_estimators\u001b[39m=\u001b[39;49m\u001b[39m10\u001b[39;49m) ,\u001b[39m#base_estimator: TreeBasedModel,\u001b[39;49;00m\n\u001b[1;32m     <a href='vscode-notebook-cell:/Users/loecherm/Documents/GitHub/adaptive-HS/experiments/noisy_feature_ident/Test.ipynb#X11sZmlsZQ%3D%3D?line=9'>10</a>\u001b[0m     [\u001b[39m\"\u001b[39;49m\u001b[39mhs\u001b[39;49m\u001b[39m\"\u001b[39;49m, \u001b[39m\"\u001b[39;49m\u001b[39mhs_entropy\u001b[39;49m\u001b[39m\"\u001b[39;49m, \u001b[39m\"\u001b[39;49m\u001b[39mhs_permutation\u001b[39;49m\u001b[39m\"\u001b[39;49m], \u001b[39m#shrink_modes: List[str],\u001b[39;49;00m\n\u001b[1;32m     <a href='vscode-notebook-cell:/Users/loecherm/Documents/GitHub/adaptive-HS/experiments/noisy_feature_ident/Test.ipynb#X11sZmlsZQ%3D%3D?line=10'>11</a>\u001b[0m     lambdas,\u001b[39m#lambdas: List[float],\u001b[39;49;00m\n\u001b[1;32m     <a href='vscode-notebook-cell:/Users/loecherm/Documents/GitHub/adaptive-HS/experiments/noisy_feature_ident/Test.ipynb#X11sZmlsZQ%3D%3D?line=11'>12</a>\u001b[0m     \u001b[39m\"\u001b[39;49m\u001b[39mclassification\u001b[39;49m\u001b[39m\"\u001b[39;49m,\u001b[39m#problem_type: str,\u001b[39;49;00m\n\u001b[1;32m     <a href='vscode-notebook-cell:/Users/loecherm/Documents/GitHub/adaptive-HS/experiments/noisy_feature_ident/Test.ipynb#X11sZmlsZQ%3D%3D?line=12'>13</a>\u001b[0m     roc_auc_score, \u001b[39m#score_fn: Callable,\u001b[39;49;00m\n\u001b[1;32m     <a href='vscode-notebook-cell:/Users/loecherm/Documents/GitHub/adaptive-HS/experiments/noisy_feature_ident/Test.ipynb#X11sZmlsZQ%3D%3D?line=13'>14</a>\u001b[0m     individual_trees\u001b[39m=\u001b[39;49m\u001b[39mFalse\u001b[39;49;00m\n\u001b[1;32m     <a href='vscode-notebook-cell:/Users/loecherm/Documents/GitHub/adaptive-HS/experiments/noisy_feature_ident/Test.ipynb#X11sZmlsZQ%3D%3D?line=14'>15</a>\u001b[0m )\n",
      "File \u001b[0;32m~/Documents/GitHub/adaptive-HS/experiments/noisy_feature_ident/_run_single_replication.py:140\u001b[0m, in \u001b[0;36mrun_single_replication\u001b[0;34m(X, y, base_estimator, shrink_modes, lambdas, problem_type, score_fn, individual_trees)\u001b[0m\n\u001b[1;32m    137\u001b[0m predictions \u001b[39m=\u001b[39m predict_fn(X_test, individual_trees\u001b[39m=\u001b[39mindividual_trees)\n\u001b[1;32m    138\u001b[0m num_trees \u001b[39m=\u001b[39m predictions\u001b[39m.\u001b[39mshape[\u001b[39m0\u001b[39m]\n\u001b[1;32m    139\u001b[0m shrink_mode_scores \u001b[39m=\u001b[39m np\u001b[39m.\u001b[39marray(\n\u001b[0;32m--> 140\u001b[0m     [\n\u001b[1;32m    141\u001b[0m         score_fn(y_test, np\u001b[39m.\u001b[39maverage(predictions[:i], axis\u001b[39m=\u001b[39m\u001b[39m0\u001b[39m))\n\u001b[1;32m    142\u001b[0m         \u001b[39mfor\u001b[39;00m i \u001b[39min\u001b[39;00m \u001b[39mrange\u001b[39m(\u001b[39m1\u001b[39m, \u001b[39mlen\u001b[39m(predictions) \u001b[39m+\u001b[39m \u001b[39m1\u001b[39m)\n\u001b[1;32m    143\u001b[0m     ]\n\u001b[1;32m    144\u001b[0m )\n\u001b[1;32m    146\u001b[0m score_key \u001b[39m=\u001b[39m \u001b[39m\"\u001b[39m\u001b[39mR2\u001b[39m\u001b[39m\"\u001b[39m \u001b[39mif\u001b[39;00m problem_type \u001b[39m==\u001b[39m \u001b[39m\"\u001b[39m\u001b[39mregression\u001b[39m\u001b[39m\"\u001b[39m \u001b[39melse\u001b[39;00m \u001b[39m\"\u001b[39m\u001b[39mROC AUC\u001b[39m\u001b[39m\"\u001b[39m\n\u001b[1;32m    147\u001b[0m result \u001b[39m+\u001b[39m\u001b[39m=\u001b[39m [\n\u001b[1;32m    148\u001b[0m     {\n\u001b[1;32m    149\u001b[0m         \u001b[39m\"\u001b[39m\u001b[39mshrink_mode\u001b[39m\u001b[39m\"\u001b[39m: shrink_mode,\n\u001b[0;32m   (...)\u001b[0m\n\u001b[1;32m    154\u001b[0m     \u001b[39mfor\u001b[39;00m i \u001b[39min\u001b[39;00m \u001b[39mrange\u001b[39m(num_trees)\n\u001b[1;32m    155\u001b[0m ]\n",
      "File \u001b[0;32m~/Documents/GitHub/adaptive-HS/experiments/noisy_feature_ident/_run_single_replication.py:141\u001b[0m, in \u001b[0;36m<listcomp>\u001b[0;34m(.0)\u001b[0m\n\u001b[1;32m    137\u001b[0m predictions \u001b[39m=\u001b[39m predict_fn(X_test, individual_trees\u001b[39m=\u001b[39mindividual_trees)\n\u001b[1;32m    138\u001b[0m num_trees \u001b[39m=\u001b[39m predictions\u001b[39m.\u001b[39mshape[\u001b[39m0\u001b[39m]\n\u001b[1;32m    139\u001b[0m shrink_mode_scores \u001b[39m=\u001b[39m np\u001b[39m.\u001b[39marray(\n\u001b[1;32m    140\u001b[0m     [\n\u001b[0;32m--> 141\u001b[0m         score_fn(y_test, np\u001b[39m.\u001b[39;49maverage(predictions[:i], axis\u001b[39m=\u001b[39;49m\u001b[39m0\u001b[39;49m))\n\u001b[1;32m    142\u001b[0m         \u001b[39mfor\u001b[39;00m i \u001b[39min\u001b[39;00m \u001b[39mrange\u001b[39m(\u001b[39m1\u001b[39m, \u001b[39mlen\u001b[39m(predictions) \u001b[39m+\u001b[39m \u001b[39m1\u001b[39m)\n\u001b[1;32m    143\u001b[0m     ]\n\u001b[1;32m    144\u001b[0m )\n\u001b[1;32m    146\u001b[0m score_key \u001b[39m=\u001b[39m \u001b[39m\"\u001b[39m\u001b[39mR2\u001b[39m\u001b[39m\"\u001b[39m \u001b[39mif\u001b[39;00m problem_type \u001b[39m==\u001b[39m \u001b[39m\"\u001b[39m\u001b[39mregression\u001b[39m\u001b[39m\"\u001b[39m \u001b[39melse\u001b[39;00m \u001b[39m\"\u001b[39m\u001b[39mROC AUC\u001b[39m\u001b[39m\"\u001b[39m\n\u001b[1;32m    147\u001b[0m result \u001b[39m+\u001b[39m\u001b[39m=\u001b[39m [\n\u001b[1;32m    148\u001b[0m     {\n\u001b[1;32m    149\u001b[0m         \u001b[39m\"\u001b[39m\u001b[39mshrink_mode\u001b[39m\u001b[39m\"\u001b[39m: shrink_mode,\n\u001b[0;32m   (...)\u001b[0m\n\u001b[1;32m    154\u001b[0m     \u001b[39mfor\u001b[39;00m i \u001b[39min\u001b[39;00m \u001b[39mrange\u001b[39m(num_trees)\n\u001b[1;32m    155\u001b[0m ]\n",
      "File \u001b[0;32m~/Documents/GitHub/venv310/lib/python3.10/site-packages/sklearn/metrics/_ranking.py:551\u001b[0m, in \u001b[0;36mroc_auc_score\u001b[0;34m(y_true, y_score, average, sample_weight, max_fpr, multi_class, labels)\u001b[0m\n\u001b[1;32m    549\u001b[0m y_type \u001b[39m=\u001b[39m type_of_target(y_true, input_name\u001b[39m=\u001b[39m\u001b[39m\"\u001b[39m\u001b[39my_true\u001b[39m\u001b[39m\"\u001b[39m)\n\u001b[1;32m    550\u001b[0m y_true \u001b[39m=\u001b[39m check_array(y_true, ensure_2d\u001b[39m=\u001b[39m\u001b[39mFalse\u001b[39;00m, dtype\u001b[39m=\u001b[39m\u001b[39mNone\u001b[39;00m)\n\u001b[0;32m--> 551\u001b[0m y_score \u001b[39m=\u001b[39m check_array(y_score, ensure_2d\u001b[39m=\u001b[39;49m\u001b[39mFalse\u001b[39;49;00m)\n\u001b[1;32m    553\u001b[0m \u001b[39mif\u001b[39;00m y_type \u001b[39m==\u001b[39m \u001b[39m\"\u001b[39m\u001b[39mmulticlass\u001b[39m\u001b[39m\"\u001b[39m \u001b[39mor\u001b[39;00m (\n\u001b[1;32m    554\u001b[0m     y_type \u001b[39m==\u001b[39m \u001b[39m\"\u001b[39m\u001b[39mbinary\u001b[39m\u001b[39m\"\u001b[39m \u001b[39mand\u001b[39;00m y_score\u001b[39m.\u001b[39mndim \u001b[39m==\u001b[39m \u001b[39m2\u001b[39m \u001b[39mand\u001b[39;00m y_score\u001b[39m.\u001b[39mshape[\u001b[39m1\u001b[39m] \u001b[39m>\u001b[39m \u001b[39m2\u001b[39m\n\u001b[1;32m    555\u001b[0m ):\n\u001b[1;32m    556\u001b[0m     \u001b[39m# do not support partial ROC computation for multiclass\u001b[39;00m\n\u001b[1;32m    557\u001b[0m     \u001b[39mif\u001b[39;00m max_fpr \u001b[39mis\u001b[39;00m \u001b[39mnot\u001b[39;00m \u001b[39mNone\u001b[39;00m \u001b[39mand\u001b[39;00m max_fpr \u001b[39m!=\u001b[39m \u001b[39m1.0\u001b[39m:\n",
      "File \u001b[0;32m~/Documents/GitHub/venv310/lib/python3.10/site-packages/sklearn/utils/validation.py:929\u001b[0m, in \u001b[0;36mcheck_array\u001b[0;34m(array, accept_sparse, accept_large_sparse, dtype, order, copy, force_all_finite, ensure_2d, allow_nd, ensure_min_samples, ensure_min_features, estimator, input_name)\u001b[0m\n\u001b[1;32m    921\u001b[0m         _assert_all_finite(\n\u001b[1;32m    922\u001b[0m             array,\n\u001b[1;32m    923\u001b[0m             input_name\u001b[39m=\u001b[39minput_name,\n\u001b[1;32m    924\u001b[0m             estimator_name\u001b[39m=\u001b[39mestimator_name,\n\u001b[1;32m    925\u001b[0m             allow_nan\u001b[39m=\u001b[39mforce_all_finite \u001b[39m==\u001b[39m \u001b[39m\"\u001b[39m\u001b[39mallow-nan\u001b[39m\u001b[39m\"\u001b[39m,\n\u001b[1;32m    926\u001b[0m         )\n\u001b[1;32m    928\u001b[0m \u001b[39mif\u001b[39;00m ensure_min_samples \u001b[39m>\u001b[39m \u001b[39m0\u001b[39m:\n\u001b[0;32m--> 929\u001b[0m     n_samples \u001b[39m=\u001b[39m _num_samples(array)\n\u001b[1;32m    930\u001b[0m     \u001b[39mif\u001b[39;00m n_samples \u001b[39m<\u001b[39m ensure_min_samples:\n\u001b[1;32m    931\u001b[0m         \u001b[39mraise\u001b[39;00m \u001b[39mValueError\u001b[39;00m(\n\u001b[1;32m    932\u001b[0m             \u001b[39m\"\u001b[39m\u001b[39mFound array with \u001b[39m\u001b[39m%d\u001b[39;00m\u001b[39m sample(s) (shape=\u001b[39m\u001b[39m%s\u001b[39;00m\u001b[39m) while a\u001b[39m\u001b[39m\"\u001b[39m\n\u001b[1;32m    933\u001b[0m             \u001b[39m\"\u001b[39m\u001b[39m minimum of \u001b[39m\u001b[39m%d\u001b[39;00m\u001b[39m is required\u001b[39m\u001b[39m%s\u001b[39;00m\u001b[39m.\u001b[39m\u001b[39m\"\u001b[39m\n\u001b[1;32m    934\u001b[0m             \u001b[39m%\u001b[39m (n_samples, array\u001b[39m.\u001b[39mshape, ensure_min_samples, context)\n\u001b[1;32m    935\u001b[0m         )\n",
      "File \u001b[0;32m~/Documents/GitHub/venv310/lib/python3.10/site-packages/sklearn/utils/validation.py:335\u001b[0m, in \u001b[0;36m_num_samples\u001b[0;34m(x)\u001b[0m\n\u001b[1;32m    333\u001b[0m \u001b[39mif\u001b[39;00m \u001b[39mhasattr\u001b[39m(x, \u001b[39m\"\u001b[39m\u001b[39mshape\u001b[39m\u001b[39m\"\u001b[39m) \u001b[39mand\u001b[39;00m x\u001b[39m.\u001b[39mshape \u001b[39mis\u001b[39;00m \u001b[39mnot\u001b[39;00m \u001b[39mNone\u001b[39;00m:\n\u001b[1;32m    334\u001b[0m     \u001b[39mif\u001b[39;00m \u001b[39mlen\u001b[39m(x\u001b[39m.\u001b[39mshape) \u001b[39m==\u001b[39m \u001b[39m0\u001b[39m:\n\u001b[0;32m--> 335\u001b[0m         \u001b[39mraise\u001b[39;00m \u001b[39mTypeError\u001b[39;00m(\n\u001b[1;32m    336\u001b[0m             \u001b[39m\"\u001b[39m\u001b[39mSingleton array \u001b[39m\u001b[39m%r\u001b[39;00m\u001b[39m cannot be considered a valid collection.\u001b[39m\u001b[39m\"\u001b[39m \u001b[39m%\u001b[39m x\n\u001b[1;32m    337\u001b[0m         )\n\u001b[1;32m    338\u001b[0m     \u001b[39m# Check that shape is returning an integer or default to len\u001b[39;00m\n\u001b[1;32m    339\u001b[0m     \u001b[39m# Dask dataframes may not return numeric shape[0] value\u001b[39;00m\n\u001b[1;32m    340\u001b[0m     \u001b[39mif\u001b[39;00m \u001b[39misinstance\u001b[39m(x\u001b[39m.\u001b[39mshape[\u001b[39m0\u001b[39m], numbers\u001b[39m.\u001b[39mIntegral):\n",
      "\u001b[0;31mTypeError\u001b[0m: Singleton array array(0.47595467) cannot be considered a valid collection."
     ]
    }
   ],
   "source": [
    "lambdas = [0.0, 0.1, 1.0, 10.0, 25.0, 50.0, 100.0]\n",
    "N=1000;p=50\n",
    "X, y, rlvFtrs = simulate_data(N, p)\n",
    "X = X.to_numpy()\n",
    "\n",
    "run_single_replication(\n",
    "    X,\n",
    "    y,\n",
    "    RandomForestClassifier(n_estimators=10) ,#base_estimator: TreeBasedModel,\n",
    "    [\"hs\", \"hs_entropy\", \"hs_permutation\"], #shrink_modes: List[str],\n",
    "    lambdas,#lambdas: List[float],\n",
    "    \"classification\",#problem_type: str,\n",
    "    roc_auc_score, #score_fn: Callable,\n",
    "    individual_trees=False\n",
    ")"
   ]
  }
 ],
 "metadata": {
  "kernelspec": {
   "display_name": "venv310",
   "language": "python",
   "name": "python3"
  },
  "language_info": {
   "codemirror_mode": {
    "name": "ipython",
    "version": 3
   },
   "file_extension": ".py",
   "mimetype": "text/x-python",
   "name": "python",
   "nbconvert_exporter": "python",
   "pygments_lexer": "ipython3",
   "version": "3.10.6"
  }
 },
 "nbformat": 4,
 "nbformat_minor": 2
}
