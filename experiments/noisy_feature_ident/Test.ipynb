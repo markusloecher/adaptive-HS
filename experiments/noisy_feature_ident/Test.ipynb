{
 "cells": [
  {
   "cell_type": "code",
   "execution_count": 1,
   "metadata": {},
   "outputs": [],
   "source": [
    "#import os\n",
    "from typing import Callable, List, Tuple, Dict\n",
    "\n",
    "from imodels.util.data_util import get_clean_dataset\n",
    "from joblib import Parallel, delayed\n",
    "from tqdm import tqdm\n",
    "\n",
    "import pandas as pd\n",
    "import numpy as np\n",
    "from _simulate_data import simulate_data\n",
    "from _util import TreeBasedModel\n",
    "from shap import TreeExplainer\n",
    "from sklearn.metrics import roc_auc_score\n",
    "from sklearn.model_selection import train_test_split\n",
    "from _run_single_replication import run_single_replication, _get_best_lambda\n",
    "from _run_experiment import run_experiment\n",
    "from sklearn.tree import DecisionTreeClassifier\n",
    "from sklearn.ensemble import RandomForestClassifier\n",
    "\n",
    "from adhs import ShrinkageClassifier\n",
    "import ipdb\n"
   ]
  },
  {
   "cell_type": "markdown",
   "metadata": {},
   "source": [
    "## Find the optimal lambda for the simulated data\n",
    "\n"
   ]
  },
  {
   "cell_type": "code",
   "execution_count": 9,
   "metadata": {},
   "outputs": [],
   "source": [
    "N=100;p=12#for testing !\n",
    "N=1000;p=50\n",
    "X, y, rlvFtrs = simulate_data(N, p)\n",
    "X = X.to_numpy()\n",
    "#X_train, X_test, y_train, y_test = train_test_split(\n",
    "#    X, y, test_size=0.2, stratify=y)"
   ]
  },
  {
   "cell_type": "markdown",
   "metadata": {},
   "source": [
    "### Single Tree"
   ]
  },
  {
   "cell_type": "code",
   "execution_count": 4,
   "metadata": {},
   "outputs": [
    {
     "data": {
      "text/plain": [
       "[{'shrink_mode': 'hs',\n",
       "  'lambda': 100.0,\n",
       "  'num_trees': 1,\n",
       "  'ROC AUC': 0.5450321395775941},\n",
       " {'shrink_mode': 'hs_entropy',\n",
       "  'lambda': 100.0,\n",
       "  'num_trees': 1,\n",
       "  'ROC AUC': 0.5537190082644627},\n",
       " {'shrink_mode': 'hs_permutation',\n",
       "  'lambda': 100.0,\n",
       "  'num_trees': 1,\n",
       "  'ROC AUC': 0.5369880624426078}]"
      ]
     },
     "execution_count": 4,
     "metadata": {},
     "output_type": "execute_result"
    }
   ],
   "source": [
    "lambdas = [0.0, 0.1, 1.0, 10.0, 25.0, 50.0, 100.0]\n",
    "N=1000;p=50\n",
    "X, y, rlvFtrs = simulate_data(N, p)\n",
    "X = X.to_numpy()\n",
    "\n",
    "run_single_replication(\n",
    "    X,\n",
    "    y,\n",
    "    DecisionTreeClassifier() ,#base_estimator: TreeBasedModel,\n",
    "    [\"hs\", \"hs_entropy\", \"hs_permutation\"], #shrink_modes: List[str],\n",
    "    lambdas,#lambdas: List[float],\n",
    "    \"classification\",#problem_type: str,\n",
    "    roc_auc_score, #score_fn: Callable,\n",
    "    individual_trees=True\n",
    ")"
   ]
  },
  {
   "cell_type": "markdown",
   "metadata": {},
   "source": [
    "## Forest"
   ]
  },
  {
   "cell_type": "code",
   "execution_count": 9,
   "metadata": {},
   "outputs": [],
   "source": [
    "lambdas = [0.0, 0.1, 1.0, 10.0, 25.0, 50.0, 100.0]\n",
    "N=1000;p=50\n",
    "X, y, rlvFtrs = simulate_data(N, p)\n",
    "X = X.to_numpy()\n",
    "\n",
    "results = run_single_replication(\n",
    "    X,\n",
    "    y,\n",
    "    RandomForestClassifier(n_estimators=10) ,#base_estimator: TreeBasedModel,\n",
    "    [\"hs\", \"hs_entropy\", \"hs_permutation\"], #shrink_modes: List[str],\n",
    "    lambdas,#lambdas: List[float],\n",
    "    \"classification\",#problem_type: str,\n",
    "    roc_auc_score, #score_fn: Callable,\n",
    "    individual_trees=True\n",
    ")"
   ]
  },
  {
   "cell_type": "code",
   "execution_count": 14,
   "metadata": {},
   "outputs": [
    {
     "data": {
      "text/plain": [
       "{'shrink_mode': 'hs',\n",
       " 'lambda': 0.1,\n",
       " 'num_trees': 3,\n",
       " 'ROC AUC': 0.45334558823529414}"
      ]
     },
     "execution_count": 14,
     "metadata": {},
     "output_type": "execute_result"
    }
   ],
   "source": [
    "len(results)#[2]\n",
    "results[2]"
   ]
  },
  {
   "cell_type": "code",
   "execution_count": null,
   "metadata": {},
   "outputs": [],
   "source": [
    "lambdas = [0.0, 0.1, 1.0, 10.0, 25.0, 50.0, 100.0]\n",
    "N=1000;p=50\n",
    "X, y, rlvFtrs = simulate_data(N, p)\n",
    "X = X.to_numpy()\n",
    "\n",
    "run_single_replication(\n",
    "    X,\n",
    "    y,\n",
    "    RandomForestClassifier(n_estimators=10) ,#base_estimator: TreeBasedModel,\n",
    "    [\"hs\", \"hs_entropy\", \"hs_permutation\"], #shrink_modes: List[str],\n",
    "    lambdas,#lambdas: List[float],\n",
    "    \"classification\",#problem_type: str,\n",
    "    roc_auc_score, #score_fn: Callable,\n",
    "    individual_trees=False\n",
    ")"
   ]
  },
  {
   "cell_type": "code",
   "execution_count": 2,
   "metadata": {},
   "outputs": [
    {
     "name": "stderr",
     "output_type": "stream",
     "text": [
      "Running classification_rf:   0%|          | 0/1 [00:00<?, ?it/s, dataset=heart]"
     ]
    },
    {
     "name": "stdout",
     "output_type": "stream",
     "text": [
      "fetching heart from imodels\n"
     ]
    },
    {
     "name": "stderr",
     "output_type": "stream",
     "text": [
      "Running classification_rf: 100%|██████████| 1/1 [01:58<00:00, 118.25s/it, dataset=heart]\n"
     ]
    }
   ],
   "source": [
    "run_experiment(\n",
    "            [(\"heart\", \"heart\", \"imodels\")],\n",
    "            RandomForestClassifier(),\n",
    "            [\"hs\", \"hs_entropy\", \"hs_permutation\"],\n",
    "            [1,10],\n",
    "            \"classification\",\n",
    "            roc_auc_score,\n",
    "            1,\n",
    "            2,\n",
    "            \"output\",\n",
    "            \"classification_rf\",\n",
    "        )"
   ]
  },
  {
   "cell_type": "code",
   "execution_count": 3,
   "metadata": {},
   "outputs": [
    {
     "name": "stderr",
     "output_type": "stream",
     "text": [
      "Running classification_rf: 100%|██████████| 1/1 [00:53<00:00, 53.57s/it, dataset=sim]\n"
     ]
    }
   ],
   "source": [
    "run_experiment(\n",
    "            [(\"sim\", \"sim\", \"sim\")],\n",
    "            RandomForestClassifier(),\n",
    "            [\"hs\", \"hs_entropy\", \"hs_permutation\"],\n",
    "            [1,10],\n",
    "            \"classification\",\n",
    "            roc_auc_score,\n",
    "            1,\n",
    "            2,\n",
    "            \"output\",\n",
    "            \"classification_rf\",\n",
    "        )"
   ]
  }
 ],
 "metadata": {
  "kernelspec": {
   "display_name": "venv310",
   "language": "python",
   "name": "python3"
  },
  "language_info": {
   "codemirror_mode": {
    "name": "ipython",
    "version": 3
   },
   "file_extension": ".py",
   "mimetype": "text/x-python",
   "name": "python",
   "nbconvert_exporter": "python",
   "pygments_lexer": "ipython3",
   "version": "3.10.6"
  }
 },
 "nbformat": 4,
 "nbformat_minor": 2
}
